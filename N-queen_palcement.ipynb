{
 "cells": [
  {
   "cell_type": "code",
   "execution_count": 1,
   "metadata": {},
   "outputs": [],
   "source": [
    "    def solveNQueens(A):\n",
    "        result=[]\n",
    "        helper(A,0,[],result)\n",
    "        for i in range(len(result)):\n",
    "            for j in range(len(result[i])):\n",
    "                s=\".\"*result[i][j]+\"Q\"+\".\"*(len(result[i])-result[i][j]-1)\n",
    "                result[i][j]=s\n",
    "        return result\n",
    "    def isvalid(c_arr):\n",
    "        row_id=len(c_arr)-1\n",
    "        for i in range(0,row_id):\n",
    "            diff=abs(c_arr[i]-c_arr[row_id])\n",
    "            if diff==0 or diff==row_id-i:\n",
    "                return False\n",
    "        return True\n",
    "    def helper(A,index,c_arr,result):\n",
    "        if index==A:\n",
    "            result.append(list(c_arr))\n",
    "        else:\n",
    "            for i in range(0,A):\n",
    "                c_arr.append(i)\n",
    "                if isvalid(c_arr):\n",
    "                    helper(A,index+1,c_arr,result)\n",
    "                c_arr.pop()"
   ]
  },
  {
   "cell_type": "code",
   "execution_count": 2,
   "metadata": {},
   "outputs": [
    {
     "name": "stdout",
     "output_type": "stream",
     "text": [
      "[['.Q..', '...Q', 'Q...', '..Q.'], ['..Q.', 'Q...', '...Q', '.Q..']]\n"
     ]
    }
   ],
   "source": [
    "A=4\n",
    "print(solveNQueens(A))"
   ]
  },
  {
   "cell_type": "code",
   "execution_count": null,
   "metadata": {},
   "outputs": [],
   "source": []
  }
 ],
 "metadata": {
  "kernelspec": {
   "display_name": "Python 3",
   "language": "python",
   "name": "python3"
  },
  "language_info": {
   "codemirror_mode": {
    "name": "ipython",
    "version": 3
   },
   "file_extension": ".py",
   "mimetype": "text/x-python",
   "name": "python",
   "nbconvert_exporter": "python",
   "pygments_lexer": "ipython3",
   "version": "3.7.4"
  }
 },
 "nbformat": 4,
 "nbformat_minor": 2
}
